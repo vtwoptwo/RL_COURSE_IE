{
  "nbformat": 4,
  "nbformat_minor": 0,
  "metadata": {
    "colab": {
      "provenance": []
    },
    "kernelspec": {
      "name": "python3",
      "display_name": "Python 3"
    },
    "language_info": {
      "name": "python"
    }
  },
  "cells": [
    {
      "cell_type": "markdown",
      "source": [
        "The mathematical expectation of winning in this roulette game is equal to TR/(N + K + Z).\n",
        "\n",
        "Where TR is the total rewards and N, K, and Z represent the number of cash prize, lose all, and endgame pockets, respectively\n",
        "\n",
        "The average number of spins until game over is not fixed and depends on the probability of landing on N, K, or Z pockets. To calculate it, you would need to model the transition matrix between these pockets and use it to find the expected number of steps to reach one of the K or Z pockets, which would be the stopping criterion."
      ],
      "metadata": {
        "id": "B9wMuGxExP3t"
      }
    },
    {
      "cell_type": "code",
      "execution_count": null,
      "metadata": {
        "colab": {
          "base_uri": "https://localhost:8080/"
        },
        "id": "XsS-ihwCxOiA",
        "outputId": "ffffc2aa-9343-4ca8-a4f1-c567b6354a0f"
      },
      "outputs": [
        {
          "output_type": "stream",
          "name": "stdout",
          "text": [
            "Expected Value: 1.00\n"
          ]
        }
      ],
      "source": [
        "import numpy as np\n",
        "\n",
        "def expected_value(TR, N, K, Z):\n",
        "  return TR / (N + K + Z)\n",
        "\n",
        "def average_spins(transition_matrix, init_dist, stopping_criterion):\n",
        "  num_spins = 0\n",
        "  cur_dist = init_dist\n",
        "  \n",
        "  while True:\n",
        "    num_spins += 1\n",
        "    cur_dist = np.matmul(cur_dist, transition_matrix)\n",
        "    if np.dot(cur_dist, stopping_criterion) > 0:\n",
        "      break\n",
        "      \n",
        "  return num_spins\n",
        "\n",
        "# Example:\n",
        "TR = 100 # Total rewards\n",
        "N = 90 # Number of cash prize pockets\n",
        "K = 9 # Number of lose all pockets\n",
        "Z = 1 # Number of endgame pockets\n",
        "\n",
        "ev = expected_value(TR, N, K, Z)\n",
        "print(f\"Expected Value: {ev:.2f}\")\n",
        "\n",
        "transition_matrix = np.array([[(N-1)/(N+K+Z), 1/(N+K+Z), 0, 0],\n",
        "                             [1/(N+K+Z), (N-1)/(N+K+Z), 0, 0],\n",
        "                             [0, 0, 1, 0],\n",
        "                             [0, 0, 0, 1]])\n",
        "\n",
        "init_dist = np.array([1, 0, 0, 0])\n",
        "stopping_criterion = np.array([0, 0, 1, 1])\n",
        "\n",
        "avg_spins = average_spins(transition_matrix, init_dist, stopping_criterion)\n",
        "print(f\"Average Spins: {avg_spins}\")\n"
      ]
    },
    {
      "cell_type": "markdown",
      "source": [],
      "metadata": {
        "id": "6i4ly7-mxcPo"
      }
    }
  ]
}
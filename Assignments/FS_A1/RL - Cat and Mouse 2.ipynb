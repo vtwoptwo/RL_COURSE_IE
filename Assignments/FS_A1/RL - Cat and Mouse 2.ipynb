{
 "cells": [
  {
   "cell_type": "code",
   "execution_count": 2,
   "id": "6ec66784",
   "metadata": {},
   "outputs": [],
   "source": [
    "import numpy as np\n",
    "import random\n",
    "import matplotlib.pyplot as plt \n",
    "from markovchains import MarkovChain"
   ]
  },
  {
   "cell_type": "code",
   "execution_count": 3,
   "id": "5d9d3533",
   "metadata": {},
   "outputs": [],
   "source": [
    "#the transition probability matrix for the state of the mouse\n",
    "\n",
    "P = np.array([[1, 0, 0, 0, 0, 0, 0],\n",
    "              [0.5, 0, 0.5, 0, 0, 0, 0],\n",
    "              [0, 0.5, 0, 0.5, 0, 0, 0],\n",
    "              [0, 0, 0.5, 0, 0.5, 0, 0],\n",
    "              [0, 0, 0, 0.5, 0, 0.5, 0],\n",
    "              [0, 0, 0, 0, 0.5, 0, 0.5],\n",
    "              [0, 0, 0, 0, 0, 0, 1]])"
   ]
  },
  {
   "cell_type": "markdown",
   "id": "34081799",
   "metadata": {},
   "source": [
    "Since the Markov Chain is not circular, we begin with the state of one. From there, it is a 50% chance that any of the adjacent doors will be chosen, so they are assigned the probability of 0.5, with none of the states (except for the first and the last) able to repeat. The first and the last state may loop back on themselves as the mouse cannot move between the doors in a circular fashion. "
   ]
  },
  {
   "cell_type": "code",
   "execution_count": null,
   "id": "1043f386",
   "metadata": {},
   "outputs": [],
   "source": []
  }
 ],
 "metadata": {
  "kernelspec": {
   "display_name": "Python 3",
   "language": "python",
   "name": "python3"
  },
  "language_info": {
   "codemirror_mode": {
    "name": "ipython",
    "version": 3
   },
   "file_extension": ".py",
   "mimetype": "text/x-python",
   "name": "python",
   "nbconvert_exporter": "python",
   "pygments_lexer": "ipython3",
   "version": "3.8.5"
  }
 },
 "nbformat": 4,
 "nbformat_minor": 5
}
